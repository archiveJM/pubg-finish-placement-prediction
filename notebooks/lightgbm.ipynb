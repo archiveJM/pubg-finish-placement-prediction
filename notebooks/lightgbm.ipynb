{
 "cells": [
  {
   "cell_type": "code",
   "execution_count": 3,
   "metadata": {},
   "outputs": [],
   "source": [
    "import project_path\n",
    "from src.features.preprocess import to_pickle, transform_columns, train_val_split, sampling\n",
    "from src.models.random_forest import RandomForestModel\n",
    "import pandas as pd"
   ]
  },
  {
   "cell_type": "code",
   "execution_count": 4,
   "metadata": {},
   "outputs": [],
   "source": [
    "train_path = '../data/processed/train.pkl'\n",
    "val_path = '../data/processed/val.pkl'\n",
    "\n",
    "model_path = '../models/lgbm.pkl'"
   ]
  },
  {
   "cell_type": "code",
   "execution_count": 1,
   "metadata": {},
   "outputs": [],
   "source": [
    "import lightgbm as lgb"
   ]
  },
  {
   "cell_type": "code",
   "execution_count": 12,
   "metadata": {},
   "outputs": [],
   "source": [
    "train_df = pd.read_pickle(train_path)\n",
    "train_X = train_df.drop('winPlacePerc', axis=1)\n",
    "train_y = train_df['winPlacePerc']\n",
    "train_set = lgb.Dataset(\n",
    "    data=train_X,\n",
    "    label=train_y,\n",
    ")\n",
    "val_df = pd.read_pickle(val_path)\n",
    "val_X = train_df.drop('winPlacePerc', axis=1)\n",
    "val_y = train_df['winPlacePerc']\n",
    "val_set = lgb.Dataset(\n",
    "    data=val_X,\n",
    "    label=val_y,\n",
    ")"
   ]
  },
  {
   "cell_type": "code",
   "execution_count": 16,
   "metadata": {},
   "outputs": [
    {
     "name": "stdout",
     "output_type": "stream",
     "text": [
      "[LightGBM] [Warning] Auto-choosing row-wise multi-threading, the overhead of testing was 0.106401 seconds.\n",
      "You can set `force_row_wise=true` to remove the overhead.\n",
      "And if memory is not enough, you can set `force_col_wise=true`.\n",
      "[LightGBM] [Info] Total Bins 2798\n",
      "[LightGBM] [Info] Number of data points in the train set: 3335223, number of used features: 24\n",
      "[LightGBM] [Info] Start training from score 0.472924\n"
     ]
    }
   ],
   "source": [
    "%%time\n",
    "param = {\n",
    "    'num_leaves': 31,\n",
    "}\n",
    "num_round = 100\n",
    "bst = lgb.train(param, train_set, num_round)"
   ]
  },
  {
   "cell_type": "code",
   "execution_count": 17,
   "metadata": {},
   "outputs": [
    {
     "name": "stdout",
     "output_type": "stream",
     "text": [
      "Val MAE: 0.06027012585688486\n"
     ]
    }
   ],
   "source": [
    "from sklearn.metrics import mean_absolute_error\n",
    "pred = bst.predict(val_X)\n",
    "val_MAE = mean_absolute_error(val_y, pred)\n",
    "print(f'Val MAE: {val_MAE}')"
   ]
  },
  {
   "cell_type": "code",
   "execution_count": null,
   "metadata": {},
   "outputs": [],
   "source": []
  }
 ],
 "metadata": {
  "interpreter": {
   "hash": "2872647a660d24bebd6896fa5d8b4fc5635369c4799bbfa44b274f9ebe84952c"
  },
  "kernelspec": {
   "display_name": "Python 3.9.12 ('py39')",
   "language": "python",
   "name": "python3"
  },
  "language_info": {
   "codemirror_mode": {
    "name": "ipython",
    "version": 3
   },
   "file_extension": ".py",
   "mimetype": "text/x-python",
   "name": "python",
   "nbconvert_exporter": "python",
   "pygments_lexer": "ipython3",
   "version": "3.9.12"
  },
  "orig_nbformat": 4
 },
 "nbformat": 4,
 "nbformat_minor": 2
}
